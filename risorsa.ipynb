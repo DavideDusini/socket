{
 "cells": [
  {
   "cell_type": "code",
   "execution_count": 3,
   "metadata": {},
   "outputs": [
    {
     "ename": "ConnectionResetError",
     "evalue": "[WinError 10054] Connessione in corso interrotta forzatamente dall'host remoto",
     "output_type": "error",
     "traceback": [
      "\u001b[1;31m---------------------------------------------------------------------------\u001b[0m",
      "\u001b[1;31mConnectionResetError\u001b[0m                      Traceback (most recent call last)",
      "Cell \u001b[1;32mIn[3], line 11\u001b[0m\n\u001b[0;32m      8\u001b[0m client_address\u001b[38;5;241m=\u001b[39m(\u001b[38;5;124m'\u001b[39m\u001b[38;5;124mlocalhost\u001b[39m\u001b[38;5;124m'\u001b[39m,\u001b[38;5;241m10001\u001b[39m)\n\u001b[0;32m      9\u001b[0m sock\u001b[38;5;241m.\u001b[39msendto(message,client_address)\n\u001b[1;32m---> 11\u001b[0m data, address \u001b[38;5;241m=\u001b[39m \u001b[43msock\u001b[49m\u001b[38;5;241;43m.\u001b[39;49m\u001b[43mrecvfrom\u001b[49m\u001b[43m(\u001b[49m\u001b[38;5;241;43m4096\u001b[39;49m\u001b[43m)\u001b[49m\n",
      "\u001b[1;31mConnectionResetError\u001b[0m: [WinError 10054] Connessione in corso interrotta forzatamente dall'host remoto"
     ]
    }
   ],
   "source": [
    "import socket\n",
    "\n",
    "sock = socket.socket(socket.AF_INET, socket.SOCK_DGRAM)\n",
    "server_address = ('127.0.0.1', 10000)\n",
    "sock.bind(server_address)\n",
    "\n",
    "message=b'Ciao client!'\n",
    "client_address=('localhost',10001)\n",
    "sock.sendto(message,client_address)\n",
    "\n",
    "data, address = sock.recvfrom(4096)"
   ]
  },
  {
   "cell_type": "code",
   "execution_count": 2,
   "metadata": {},
   "outputs": [
    {
     "name": "stdout",
     "output_type": "stream",
     "text": [
      "Server in attesa dei messaggi...\n"
     ]
    }
   ],
   "source": [
    "import socket\n",
    "\n",
    "SERVER_IP = \"127.0.0.1\"\n",
    "SERVER_PORT = 5005\n",
    "BUFFER_SIZE = 1024\n",
    "\n",
    "sock = socket.socket(socket.AF_INET, socket.SOCK_DGRAM)\n",
    "sock.bind((SERVER_IP, SERVER_PORT))\n",
    "\n",
    "print(\"Server in attesa dei messaggi...\")\n",
    "\n",
    "while True:\n",
    "    data, addr = sock.recvfrom(BUFFER_SIZE)\n",
    "    print(f\"Messaggio ricevuto dal client {addr}: {data.decode()}\")\n",
    "\n",
    "    reply = \"pong\"\n",
    "    sock.sendto(reply.encode(),addr)"
   ]
  },
  {
   "cell_type": "code",
   "execution_count": 1,
   "metadata": {},
   "outputs": [
    {
     "name": "stdout",
     "output_type": "stream",
     "text": [
      "Messaggio inviato al server: pong\n"
     ]
    },
    {
     "ename": "ConnectionResetError",
     "evalue": "[WinError 10054] Connessione in corso interrotta forzatamente dall'host remoto",
     "output_type": "error",
     "traceback": [
      "\u001b[1;31m---------------------------------------------------------------------------\u001b[0m",
      "\u001b[1;31mConnectionResetError\u001b[0m                      Traceback (most recent call last)",
      "Cell \u001b[1;32mIn[1], line 15\u001b[0m\n\u001b[0;32m     12\u001b[0m     sock\u001b[38;5;241m.\u001b[39msendto(message\u001b[38;5;241m.\u001b[39mencode(),(SERVER_IP, SERVER_PORT))\n\u001b[0;32m     13\u001b[0m     \u001b[38;5;28mprint\u001b[39m(\u001b[38;5;124mf\u001b[39m\u001b[38;5;124m\"\u001b[39m\u001b[38;5;124mMessaggio inviato al server: \u001b[39m\u001b[38;5;132;01m{\u001b[39;00mmessage\u001b[38;5;132;01m}\u001b[39;00m\u001b[38;5;124m\"\u001b[39m)\n\u001b[1;32m---> 15\u001b[0m     data,addr \u001b[38;5;241m=\u001b[39m \u001b[43msock\u001b[49m\u001b[38;5;241;43m.\u001b[39;49m\u001b[43mrecvfrom\u001b[49m\u001b[43m(\u001b[49m\u001b[43mBUFFER_SIZE\u001b[49m\u001b[43m)\u001b[49m\n\u001b[0;32m     16\u001b[0m     \u001b[38;5;28mprint\u001b[39m(\u001b[38;5;124mf\u001b[39m\u001b[38;5;124m\"\u001b[39m\u001b[38;5;124mMessaggio ricevuto dal server \u001b[39m\u001b[38;5;132;01m{\u001b[39;00maddr\u001b[38;5;132;01m}\u001b[39;00m\u001b[38;5;124m: \u001b[39m\u001b[38;5;132;01m{\u001b[39;00mdata\u001b[38;5;241m.\u001b[39mdecode()\u001b[38;5;132;01m}\u001b[39;00m\u001b[38;5;124m\"\u001b[39m)\n\u001b[0;32m     18\u001b[0m sock\u001b[38;5;241m.\u001b[39mclose()\n",
      "\u001b[1;31mConnectionResetError\u001b[0m: [WinError 10054] Connessione in corso interrotta forzatamente dall'host remoto"
     ]
    }
   ],
   "source": [
    "import socket\n",
    "\n",
    "SERVER_IP = \"127.0.0.1\"\n",
    "SERVER_PORT = 5005\n",
    "BUFFER_SIZE = 1024\n",
    "NUM_MESSAGE = 5\n",
    "\n",
    "sock = socket.socket(socket.AF_INET, socket.SOCK_DGRAM)\n",
    "\n",
    "for i in range(NUM_MESSAGE):\n",
    "    message=\"pong\"\n",
    "    sock.sendto(message.encode(),(SERVER_IP, SERVER_PORT))\n",
    "    print(f\"Messaggio inviato al server: {message}\")\n",
    "\n",
    "    data,addr = sock.recvfrom(BUFFER_SIZE)\n",
    "    print(f\"Messaggio ricevuto dal server {addr}: {data.decode()}\")\n",
    "\n",
    "sock.close()\n"
   ]
  }
 ],
 "metadata": {
  "kernelspec": {
   "display_name": "Python 3",
   "language": "python",
   "name": "python3"
  },
  "language_info": {
   "codemirror_mode": {
    "name": "ipython",
    "version": 3
   },
   "file_extension": ".py",
   "mimetype": "text/x-python",
   "name": "python",
   "nbconvert_exporter": "python",
   "pygments_lexer": "ipython3",
   "version": "3.11.7"
  }
 },
 "nbformat": 4,
 "nbformat_minor": 2
}
