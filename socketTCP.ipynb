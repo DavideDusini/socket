{
 "cells": [
  {
   "cell_type": "markdown",
   "metadata": {},
   "source": [
    "## **Introduzione alle socket TCP**"
   ]
  },
  {
   "cell_type": "markdown",
   "metadata": {},
   "source": [
    "Le socket TCP sono uno dei modi più diffusi per la comunicazione tra processi su una rete. Una socket è un oggetto software che presenta un endpoint di un canale di comunicazione bidirezionale tra due processi. In particolare, una socket TCP è una socket orientata alla connessione, cioè garantisce una connesione affidabile e stabile tra i due processi.\n",
    "\n",
    "Per utilizzare le socket TCP in Python, è necessario importare la libreria socket. Le primitive più importanti della libreria socket per la gestione delle socket TCP sono:\n",
    "- **socket()**: crea una nuova socket e restituisce il descrittore della socket appena creata. La funzione chiede due parametri di input: il tipo di indirizzo della socket (AF_INET per gi indirizzi IPv4) e il tipo di socket (SOCK_STREAM per le socket TCP).\n",
    "- **bind()**: assegna un indirizzo IP e una porta alla socket. La funzione richiede un parametro di input, una tupla contentente l'indirizzo IP (in formato Stringa) e la porta (in formato numerico) a cui associare la socket.\n",
    "- **listen()**: mette la socket in ascolto per eventuali connessioni in ingresso. Lafunzione richiede un parametro di input, il numero massimo di connesioni in coda che la socket è in grado di gestire contemporaneamente.\n",
    "- **accept()**: accetta una nuova connessione in ingresso. La funzione restituisce una nuova socket dedicata alla connessione accettata e l'indirizzo IP e la porta del client che ha stabilito la connessione. La funzione blocca il processo fino a quando non viene stabilita una nuova connessione.\n",
    "- **connect()**: avvia la connessione verso un server remoto specificato dall'indirizzo IP e dalla porta. La funzione richiede un parametro di input, una tupla contenente l'indirizzo IP (in formato stringa) e la porta (in formato numerico) del server.\n",
    "- **send()**:invia dati sulla socket. La funzione richiede un parametro di input, una stringa contenente i dati da inviare, e restituisce il numero di byte effettivamente inviati. Per inviare tutti i dati può essere necessario invocare la send() più volte.\n",
    "- **sendall()**: invia tutti i dati sulla socket in una sola volta, e blocca il processo finché tutti i dati non sono stati inviati. In generale, è consigliabile utilizzare la sendall invece di send() per garantire l'invio completo dei dati. Tuttavia, in alcuni casi specifici, come ad esempio l'invio di dati di grandi dimensioni, potrebbe essere necessario utilizzare la primitiva send() per inviare i dati in blocchi più piccoli.\n",
    "- **recv()**: riceve dati sulla socket. La funzione restituisce una stringa contenente i dati ricevuti. La funzione blocca il processo fino a quando non arrivano nuovi dati sulla socket.\n",
    "- **recvfrom()**: restituisce anche l'indirizzo IP e la porta del mittente dei dati ricevuti.\n",
    "- **close()**: chiude la socket.\n",
    "\n",
    "Queste sono solo alcune delle primitive disponibili nella libreria socket per la gestione delle socket TCP. Altre primitive includono setsockopt() per impostare opzioni sulla socket, getsockopt() per recuperare le opzioni della socket, e molte altre.\n",
    "\n",
    "## **Il costrutto with**\n",
    "\n",
    "È utilizzato per gestire il contesto di un oggetto. In particolare, è utile quando si lavora con oggetti che necessitano di essere aperti e chiusi correttamente, come ad esempio file, socket, connessioni a database e così via.\n",
    "\n",
    "Il costrutto with ha la seguente sintassi:"
   ]
  },
  {
   "cell_type": "code",
   "execution_count": null,
   "metadata": {},
   "outputs": [],
   "source": [
    "with <oggetto> as <nome_variabile>:\n",
    "    <blocco_di_codice>\n",
    "#Uscendo dal with l'oggetto viene chiuso automaticamente"
   ]
  },
  {
   "cell_type": "code",
   "execution_count": 1,
   "metadata": {},
   "outputs": [
    {
     "name": "stdout",
     "output_type": "stream",
     "text": [
      "<class 'str'>\n",
      "<class 'bytes'>\n",
      "b'Hello'\n",
      "<class 'str'>\n",
      "Hello\n"
     ]
    }
   ],
   "source": [
    "input_string='Hello'\n",
    "print(type(input_string))\n",
    "input_bytes_encoded = input_string.encode()\n",
    "print(type(input_bytes_encoded))\n",
    "print(input_bytes_encoded)\n",
    "output_string=input_bytes_encoded.decode()\n",
    "print(type(output_string))\n",
    "print(output_string)"
   ]
  },
  {
   "cell_type": "code",
   "execution_count": null,
   "metadata": {},
   "outputs": [],
   "source": [
    "# Client\n",
    "import socket\n",
    "HOST = '127.0.0.1' # Indirizzo del server\n",
    "PORT = 65432 # Porta usata dal server\n",
    "with socket.socket(socket.AF_INET, socket.SOCK_STREAM) as sock_service:\n",
    "    sock_service.connect((HOST, PORT))\n",
    "    sock_service. sendall(b'Hello, world') # invio direttamente in formato byte\n",
    "    data = sock_service.recv(1024) # il parametro indica la dimensione massima dei dati che possono essere ricevuti in una volta\n",
    "# questo punto la socket è stata chiusa automaticamente\n",
    "\n",
    "print('Received', data.decode())"
   ]
  },
  {
   "cell_type": "code",
   "execution_count": null,
   "metadata": {},
   "outputs": [],
   "source": [
    "# Server\n",
    "import socket\n",
    "# Configurazione del server\n",
    "IP = \"127.0.0.1\"\n",
    "PORTA = 65432\n",
    "DIM_BUFFER = 1024\n",
    "# Creazione della socket del server con il costrutto with\n",
    "with socket.socket(socket.AF_INET, socket.SOCK_STREAM) as sock_serve\n",
    "# Binding della socket alla porta specificata\n",
    "sock_server.bind(IP, PORTA))\n",
    "# Metti la socket in ascolto per le connessioni in ingresso\n",
    "sock_server. listen()\n",
    "print(f\"Server in ascolto su {IP):(PORTA)...\"*)\n",
    "# Loop principale del server\n",
    "while True:\n",
    "#accetta le connessioni\n",
    "sock_service, address _client = sock_ server. accept)\n",
    "with sock_service as sock_client:\n",
    "# Leggi i dati inviati dal client\n",
    "dati = sock_client.recv(DIM_BUFFER).decode()\n",
    "# Stampa il messaggio ricevuto e invia una risposta al client\n",
    "print(f\"Ricevuto messaggio dal client {sock_client}: {dati}\")\n",
    "sock client sendall(\"Messaggio ricevuto dal server\".encode())"
   ]
  }
 ],
 "metadata": {
  "kernelspec": {
   "display_name": "Python 3",
   "language": "python",
   "name": "python3"
  },
  "language_info": {
   "codemirror_mode": {
    "name": "ipython",
    "version": 3
   },
   "file_extension": ".py",
   "mimetype": "text/x-python",
   "name": "python",
   "nbconvert_exporter": "python",
   "pygments_lexer": "ipython3",
   "version": "3.8.1rc1"
  }
 },
 "nbformat": 4,
 "nbformat_minor": 2
}
